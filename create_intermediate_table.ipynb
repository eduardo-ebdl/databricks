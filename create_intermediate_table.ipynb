{
 "cells": [
  {
   "cell_type": "code",
   "execution_count": 0,
   "metadata": {
    "application/vnd.databricks.v1+cell": {
     "cellMetadata": {
      "byteLimit": 2048000,
      "rowLimit": 10000
     },
     "inputWidgets": {},
     "nuid": "662d382c-e241-434b-8f5f-c2098ad1d695",
     "showTitle": false,
     "tableResultSettingsMap": {},
     "title": ""
    }
   },
   "outputs": [],
   "source": [
    "-- Criação da Tabela com novas colunas de Identificação e Tradução dos Dados para Inglês\n",
    "CREATE OR REPLACE TABLE dev_db.intermediate.int_patients_symptoms AS\n",
    "SELECT\n",
    "  uuid() AS patient_pk\n",
    "\n",
    "  , ROW_NUMBER() OVER (ORDER BY (SELECT NULL)) + 1000 AS patient_id\n",
    "\n",
    "  , CASE WHEN gender = 'Masculino' THEN 'Male' WHEN gender = 'Feminino' THEN 'Female' ELSE 'Not Specified' END AS gender\n",
    "\n",
    "  , age\n",
    "  , weight\n",
    "  , city\n",
    "  , state\n",
    "\n",
    "  , CASE WHEN body_pain = 'Sim' THEN 'Yes' WHEN body_pain = 'Não' THEN 'No' ELSE NULL END AS body_pain\n",
    "  , CASE WHEN cough = 'Sim' THEN 'Yes' WHEN cough = 'Não' THEN 'No' ELSE NULL END AS cough\n",
    "  , CASE WHEN diarrhea = 'Sim' THEN 'Yes' WHEN diarrhea = 'Não' THEN 'No' ELSE NULL END AS diarrhea\n",
    "  , CASE WHEN fatigue = 'Sim' THEN 'Yes' WHEN fatigue = 'Não' THEN 'No' ELSE NULL END AS fatigue\n",
    "  , CASE WHEN fever = 'Sim' THEN 'Yes' WHEN fever = 'Não' THEN 'No' ELSE NULL END AS fever\n",
    "  , CASE WHEN headache = 'Sim' THEN 'Yes' WHEN headache = 'Não' THEN 'No' ELSE NULL END AS headache\n",
    "  , CASE WHEN nausea = 'Sim' THEN 'Yes' WHEN nausea = 'Não' THEN 'No' ELSE NULL END AS nausea\n",
    "  , CASE WHEN runny_nose = 'Sim' THEN 'Yes' WHEN runny_nose = 'Não' THEN 'No' ELSE NULL END AS runny_nose\n",
    "\n",
    "  , CASE \n",
    "    WHEN diagnose = 'Saudável' THEN 'Healthy'\n",
    "    WHEN diagnose = 'Alergia Sazonal' THEN 'Seasonal Allergy'\n",
    "    WHEN diagnose = 'Virose Comum' THEN 'Common Virus'\n",
    "    WHEN diagnose = 'Intoxicação Alimentar' THEN 'Food Poisoning'\n",
    "    WHEN diagnose = 'Gripe Forte' THEN 'Severe Flu'\n",
    "    ELSE 'Unknown' \n",
    "  END AS diagnose\n",
    "  \n",
    "FROM\n",
    "  dev_db.raw.patients_symptoms;\n"
   ]
  }
 ],
 "metadata": {
  "application/vnd.databricks.v1+notebook": {
   "computePreferences": null,
   "dashboards": [],
   "environmentMetadata": {
    "base_environment": "",
    "environment_version": "2"
   },
   "inputWidgetPreferences": null,
   "language": "sql",
   "notebookMetadata": {
    "pythonIndentUnit": 4
   },
   "notebookName": "Notebook sem título 2025-06-17 21_13_21",
   "widgets": {}
  },
  "language_info": {
   "name": "sql"
  }
 },
 "nbformat": 4,
 "nbformat_minor": 0
}

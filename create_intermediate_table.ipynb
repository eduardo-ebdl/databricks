{
 "cells": [
  {
   "cell_type": "code",
   "execution_count": 0,
   "metadata": {
    "application/vnd.databricks.v1+cell": {
     "cellMetadata": {
      "byteLimit": 2048000,
      "rowLimit": 10000
     },
     "inputWidgets": {},
     "nuid": "662d382c-e241-434b-8f5f-c2098ad1d695",
     "showTitle": false,
     "tableResultSettingsMap": {},
     "title": ""
    }
   },
   "outputs": [],
   "source": [
    "-- This script creates a new intermediate table named 'int_patients_symptoms'.\n",
    "-- The purpose of this table is to clean, transform, and enrich the raw patient data.\n",
    "-- Transformations include adding unique identifiers and translating Portuguese values to English.\n",
    "\n",
    "CREATE OR REPLACE TABLE dev_db.intermediate.int_patients_symptoms AS\n",
    "SELECT\n",
    "    -- Section 1: Unique Identifiers\n",
    "    -- ---------------------------------\n",
    "    -- Creates a universally unique identifier (UUID) for each patient record.\n",
    "    -- This serves as a robust primary key (PK) for the table, ensuring each row is unique.\n",
    "    uuid() AS patient_pk,\n",
    "\n",
    "    -- Creates a simple, readable numeric ID for each patient.\n",
    "    -- It starts from 1001 and increments for each row.\n",
    "    ROW_NUMBER() OVER (ORDER BY (SELECT NULL)) + 1000 AS patient_id,\n",
    "\n",
    "\n",
    "    -- Section 2: Data Translation (PT-BR to EN-US)\n",
    "    -- ----------------------------------------------------\n",
    "    -- Translates the 'gender' column from Portuguese to English.\n",
    "    CASE\n",
    "        WHEN gender = 'Masculino' THEN 'Male'\n",
    "        WHEN gender = 'Feminino' THEN 'Female'\n",
    "        ELSE 'Not Specified'\n",
    "    END AS gender,\n",
    "\n",
    "    -- Selects original columns without transformation.\n",
    "    age,\n",
    "    weight,\n",
    "    city,\n",
    "    state,\n",
    "\n",
    "    -- Translates the binary 'Sim'/'Não' (Yes/No) symptom columns to English.\n",
    "    CASE WHEN body_pain = 'Sim' THEN 'Yes' WHEN body_pain = 'Não' THEN 'No' ELSE NULL END AS body_pain,\n",
    "    CASE WHEN cough     = 'Sim' THEN 'Yes' WHEN cough     = 'Não' THEN 'No' ELSE NULL END AS cough,\n",
    "    CASE WHEN diarrhea  = 'Sim' THEN 'Yes' WHEN diarrhea  = 'Não' THEN 'No' ELSE NULL END AS diarrhea,\n",
    "    CASE WHEN fatigue   = 'Sim' THEN 'Yes' WHEN fatigue   = 'Não' THEN 'No' ELSE NULL END AS fatigue,\n",
    "    CASE WHEN fever     = 'Sim' THEN 'Yes' WHEN fever     = 'Não' THEN 'No' ELSE NULL END AS fever,\n",
    "    CASE WHEN headache  = 'Sim' THEN 'Yes' WHEN headache  = 'Não' THEN 'No' ELSE NULL END AS headache,\n",
    "    CASE WHEN nausea    = 'Sim' THEN 'Yes' WHEN nausea    = 'Não' THEN 'No' ELSE NULL END AS nausea,\n",
    "    CASE WHEN runny_nose= 'Sim' THEN 'Yes' WHEN runny_nose= 'Não' THEN 'No' ELSE NULL END AS runny_nose,\n",
    "\n",
    "    -- Translates the 'diagnose' column from Portuguese to English for standardization.\n",
    "    CASE\n",
    "        WHEN diagnose = 'Saudável' THEN 'Healthy'\n",
    "        WHEN diagnose = 'Alergia Sazonal' THEN 'Seasonal Allergy'\n",
    "        WHEN diagnose = 'Virose Comum' THEN 'Common Virus'\n",
    "        WHEN diagnose = 'Intoxicação Alimentar' THEN 'Food Poisoning'\n",
    "        WHEN diagnose = 'Gripe Forte' THEN 'Severe Flu'\n",
    "        ELSE 'Unknown'\n",
    "    END AS diagnose\n",
    "\n",
    "FROM\n",
    "    -- Specifies the source table containing the raw data.\n",
    "    dev_db.raw.patients_symptoms;\n"
   ]
  }
 ],
 "metadata": {
  "application/vnd.databricks.v1+notebook": {
   "computePreferences": null,
   "dashboards": [],
   "environmentMetadata": {
    "base_environment": "",
    "environment_version": "2"
   },
   "inputWidgetPreferences": null,
   "language": "sql",
   "notebookMetadata": {
    "pythonIndentUnit": 4
   },
   "notebookName": "create_intermediate_table",
   "widgets": {}
  },
  "language_info": {
   "name": "sql"
  }
 },
 "nbformat": 4,
 "nbformat_minor": 0
}
